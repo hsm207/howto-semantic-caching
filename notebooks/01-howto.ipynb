{
 "cells": [
  {
   "attachments": {},
   "cell_type": "markdown",
   "metadata": {},
   "source": [
    "# Introduction"
   ]
  },
  {
   "attachments": {},
   "cell_type": "markdown",
   "metadata": {},
   "source": [
    "This notebook shows how to configure GPTCache to use weaviate as the vector store"
   ]
  },
  {
   "attachments": {},
   "cell_type": "markdown",
   "metadata": {},
   "source": [
    "# Imports"
   ]
  },
  {
   "cell_type": "code",
   "execution_count": 1,
   "metadata": {},
   "outputs": [],
   "source": [
    "from gptcache import cache\n",
    "from gptcache.manager import get_data_manager, CacheBase, VectorBase\n",
    "from gptcache.similarity_evaluation.distance import SearchDistanceEvaluation\n",
    "from gptcache.embedding import OpenAI\n",
    "import weaviate\n",
    "import os\n",
    "import sqlite3\n",
    "from gptcache.adapter import openai\n",
    "import timeit"
   ]
  },
  {
   "attachments": {},
   "cell_type": "markdown",
   "metadata": {},
   "source": [
    "# Setup"
   ]
  },
  {
   "attachments": {},
   "cell_type": "markdown",
   "metadata": {},
   "source": [
    "Use openai to do the embedding:"
   ]
  },
  {
   "cell_type": "code",
   "execution_count": 2,
   "metadata": {},
   "outputs": [],
   "source": [
    "openai_embedding_fn = OpenAI().to_embeddings"
   ]
  },
  {
   "cell_type": "code",
   "execution_count": 3,
   "metadata": {},
   "outputs": [
    {
     "data": {
      "text/plain": [
       "array([-0.01494597,  0.0014304 , -0.01848823, ..., -0.03047134,\n",
       "       -0.00347313, -0.01090331], dtype=float32)"
      ]
     },
     "execution_count": 3,
     "metadata": {},
     "output_type": "execute_result"
    }
   ],
   "source": [
    "openai_embedding_fn(\"hello world\")"
   ]
  },
  {
   "attachments": {},
   "cell_type": "markdown",
   "metadata": {},
   "source": [
    "Use sqlite to cache the request/response:"
   ]
  },
  {
   "cell_type": "code",
   "execution_count": 4,
   "metadata": {},
   "outputs": [
    {
     "name": "stderr",
     "output_type": "stream",
     "text": [
      "/workspaces/howto-gptcache-weaviate/.venv/lib/python3.11/site-packages/gptcache/manager/scalar_data/sql_storage.py:45: MovedIn20Warning: The ``declarative_base()`` function is now available as sqlalchemy.orm.declarative_base(). (deprecated since: 2.0) (Background on SQLAlchemy 2.0 at: https://sqlalche.me/e/b8d9)\n",
      "  DynamicBase = declarative_base(class_registry={})  # pylint: disable=C0103\n"
     ]
    }
   ],
   "source": [
    "cache_base = CacheBase(\"sqlite\")"
   ]
  },
  {
   "attachments": {},
   "cell_type": "markdown",
   "metadata": {},
   "source": [
    "What's in the sqlite db now?"
   ]
  },
  {
   "cell_type": "code",
   "execution_count": 5,
   "metadata": {},
   "outputs": [],
   "source": [
    "def dump_cache_content():\n",
    "    cursor = sqlite3.connect(\"sqlite.db\").cursor()\n",
    "    tables = cursor.execute('SELECT * FROM sqlite_master WHERE type=\"table\"').fetchall()\n",
    "\n",
    "    for table in tables:\n",
    "        # Print the table name as a delimiter\n",
    "        print(f\"Results for table {table[1]}:\")\n",
    "        print(\"------------------------\")\n",
    "\n",
    "        # Execute a SELECT * query for the table\n",
    "        cursor.execute(f\"SELECT * FROM {table[1]}\")\n",
    "        results = cursor.fetchall()\n",
    "\n",
    "        # Print the results\n",
    "        for row in results:\n",
    "            print(row)\n",
    "\n",
    "        # Print a blank line to separate the output for each table\n",
    "        print()"
   ]
  },
  {
   "cell_type": "code",
   "execution_count": 6,
   "metadata": {},
   "outputs": [
    {
     "name": "stdout",
     "output_type": "stream",
     "text": [
      "Results for table gptcache_question:\n",
      "------------------------\n",
      "\n",
      "Results for table gptcache_answer:\n",
      "------------------------\n",
      "\n",
      "Results for table gptcache_question_dep:\n",
      "------------------------\n",
      "\n",
      "Results for table gptcache_session:\n",
      "------------------------\n",
      "\n",
      "Results for table gptcache_report:\n",
      "------------------------\n",
      "\n"
     ]
    }
   ],
   "source": [
    "dump_cache_content()"
   ]
  },
  {
   "attachments": {},
   "cell_type": "markdown",
   "metadata": {},
   "source": [
    "Use weaviate to store the vector:"
   ]
  },
  {
   "cell_type": "code",
   "execution_count": 7,
   "metadata": {},
   "outputs": [
    {
     "name": "stdout",
     "output_type": "stream",
     "text": [
      "start to install package: weaviate-client\n",
      "successfully installed package: weaviate-client\n"
     ]
    }
   ],
   "source": [
    "url = os.getenv(\"WEAVIATE_URL\")\n",
    "api_key = os.getenv(\"WEAVIATE_API_KEY\")\n",
    "auth_config = weaviate.AuthApiKey(api_key=api_key)\n",
    "vector_base = VectorBase(\"weaviate\", url=url, auth_client_secret=auth_config)"
   ]
  },
  {
   "attachments": {},
   "cell_type": "markdown",
   "metadata": {},
   "source": [
    "Create a weaviate client to query the db outside gptcache:"
   ]
  },
  {
   "cell_type": "code",
   "execution_count": 8,
   "metadata": {},
   "outputs": [],
   "source": [
    "weaviate_client = weaviate.Client(url=url, auth_client_secret=auth_config)"
   ]
  },
  {
   "attachments": {},
   "cell_type": "markdown",
   "metadata": {},
   "source": [
    "Check that the weaviate db is empty:"
   ]
  },
  {
   "cell_type": "code",
   "execution_count": 9,
   "metadata": {},
   "outputs": [
    {
     "data": {
      "text/plain": [
       "{'class': 'GPTCache',\n",
       " 'description': 'LLM response cache',\n",
       " 'invertedIndexConfig': {'bm25': {'b': 0.75, 'k1': 1.2},\n",
       "  'cleanupIntervalSeconds': 60,\n",
       "  'stopwords': {'additions': None, 'preset': 'en', 'removals': None}},\n",
       " 'multiTenancyConfig': {'enabled': False},\n",
       " 'properties': [{'dataType': ['int'],\n",
       "   'description': 'The data-id generated by GPTCache for vectors.',\n",
       "   'indexFilterable': True,\n",
       "   'indexSearchable': False,\n",
       "   'name': 'data_id'}],\n",
       " 'replicationConfig': {'factor': 1},\n",
       " 'shardingConfig': {'virtualPerPhysical': 128,\n",
       "  'desiredCount': 1,\n",
       "  'actualCount': 1,\n",
       "  'desiredVirtualCount': 128,\n",
       "  'actualVirtualCount': 128,\n",
       "  'key': '_id',\n",
       "  'strategy': 'hash',\n",
       "  'function': 'murmur3'},\n",
       " 'vectorIndexConfig': {'skip': False,\n",
       "  'cleanupIntervalSeconds': 300,\n",
       "  'maxConnections': 64,\n",
       "  'efConstruction': 128,\n",
       "  'ef': -1,\n",
       "  'dynamicEfMin': 100,\n",
       "  'dynamicEfMax': 500,\n",
       "  'dynamicEfFactor': 8,\n",
       "  'vectorCacheMaxObjects': 1000000000000,\n",
       "  'flatSearchCutoff': 40000,\n",
       "  'distance': 'cosine',\n",
       "  'pq': {'enabled': False,\n",
       "   'bitCompression': False,\n",
       "   'segments': 0,\n",
       "   'centroids': 256,\n",
       "   'trainingLimit': 100000,\n",
       "   'encoder': {'type': 'kmeans', 'distribution': 'log-normal'}}},\n",
       " 'vectorIndexType': 'hnsw',\n",
       " 'vectorizer': 'none'}"
      ]
     },
     "execution_count": 9,
     "metadata": {},
     "output_type": "execute_result"
    }
   ],
   "source": [
    "weaviate_class_name = \"GPTCache\"\n",
    "weaviate_client.schema.get(class_name=weaviate_class_name)"
   ]
  },
  {
   "cell_type": "code",
   "execution_count": 10,
   "metadata": {},
   "outputs": [
    {
     "data": {
      "text/plain": [
       "{'deprecations': [], 'objects': []}"
      ]
     },
     "execution_count": 10,
     "metadata": {},
     "output_type": "execute_result"
    }
   ],
   "source": [
    "weaviate_client.data_object.get(class_name=weaviate_class_name)"
   ]
  },
  {
   "attachments": {},
   "cell_type": "markdown",
   "metadata": {},
   "source": [
    "Back to GPTCache stuff, we init the cache:"
   ]
  },
  {
   "cell_type": "code",
   "execution_count": 11,
   "metadata": {},
   "outputs": [],
   "source": [
    "data_manager = get_data_manager(cache_base, vector_base)\n",
    "\n",
    "cache.init(\n",
    "    embedding_func=openai_embedding_fn,\n",
    "    data_manager=data_manager,\n",
    "    similarity_evaluation=SearchDistanceEvaluation(max_distance=1),\n",
    ")\n",
    "\n",
    "cache.set_openai_key()"
   ]
  },
  {
   "attachments": {},
   "cell_type": "markdown",
   "metadata": {},
   "source": [
    "Note:\n",
    "\n",
    "In `SearchDistanceEvaluation(max_distance=1)`, we set `max_distance=1` to make the similarity threshold calculation \"work\" using this evaluation metric and cosine similarity (weaviate's default similarity metric).\n",
    "\n",
    "References:\n",
    "\n",
    "1. [calculating rank threshold](https://github.com/zilliztech/GPTCache/blob/03a059704443961ae5b6ca243e3edc2dc15aeb2a/gptcache/adapter/adapter.py#L98C1-L107C10)\n",
    "\n",
    "2. [applying the rank threshold](https://github.com/zilliztech/GPTCache/blob/03a059704443961ae5b6ca243e3edc2dc15aeb2a/gptcache/adapter/adapter.py#L158C1-L176C18)"
   ]
  },
  {
   "attachments": {},
   "cell_type": "markdown",
   "metadata": {},
   "source": [
    "# Usage"
   ]
  },
  {
   "attachments": {},
   "cell_type": "markdown",
   "metadata": {},
   "source": [
    "Create some functions to calculate the time it takes to query the LLM:"
   ]
  },
  {
   "cell_type": "code",
   "execution_count": 12,
   "metadata": {},
   "outputs": [],
   "source": [
    "def timeit_decorator(func):\n",
    "    def wrapper(*args, **kwargs):\n",
    "        # Time the execution of the function\n",
    "        start_time = timeit.default_timer()\n",
    "        result = func(*args, **kwargs)\n",
    "        end_time = timeit.default_timer()\n",
    "\n",
    "        # Print the time taken\n",
    "        print(f\"Time taken to run {func.__name__}: {end_time - start_time:.2f} seconds\")\n",
    "\n",
    "        return result\n",
    "\n",
    "    return wrapper"
   ]
  },
  {
   "cell_type": "code",
   "execution_count": 13,
   "metadata": {},
   "outputs": [],
   "source": [
    "# Define a function to get a response from OpenAI's GPT-3 API\n",
    "@timeit_decorator\n",
    "def get_openai_response(question):\n",
    "    # Call the OpenAI API to get a response\n",
    "    result = openai.ChatCompletion.create(\n",
    "        model=\"gpt-3.5-turbo\",\n",
    "        messages=[{\"role\": \"user\", \"content\": question}],\n",
    "    )\n",
    "    # Extract the response from the API result\n",
    "    response = result[\"choices\"][0][\"message\"][\"content\"]\n",
    "\n",
    "    # Return the response\n",
    "    return response"
   ]
  },
  {
   "attachments": {},
   "cell_type": "markdown",
   "metadata": {},
   "source": [
    "Let's ask the llm \"Who is Barrack Obama\":"
   ]
  },
  {
   "cell_type": "code",
   "execution_count": 14,
   "metadata": {},
   "outputs": [
    {
     "name": "stdout",
     "output_type": "stream",
     "text": [
      "Time taken to run get_openai_response: 4.12 seconds\n"
     ]
    },
    {
     "data": {
      "text/plain": [
       "'Barack Obama is an American politician and attorney who served as the 44th President of the United States from 2009 to 2017. He is a member of the Democratic Party and is known for being the first African American to hold the office of President. During his tenure, Obama implemented significant policy changes, including the Affordable Care Act (also known as Obamacare) and the economic stimulus package to recover from the 2008 financial crisis. He is considered a charismatic and influential figure in American politics.'"
      ]
     },
     "execution_count": 14,
     "metadata": {},
     "output_type": "execute_result"
    }
   ],
   "source": [
    "question = \"Who is Barrack Obama?\"\n",
    "\n",
    "get_openai_response(question)"
   ]
  },
  {
   "attachments": {},
   "cell_type": "markdown",
   "metadata": {},
   "source": [
    "Let's ask it again and note how long the call took:"
   ]
  },
  {
   "cell_type": "code",
   "execution_count": 15,
   "metadata": {},
   "outputs": [
    {
     "name": "stdout",
     "output_type": "stream",
     "text": [
      "Time taken to run get_openai_response: 0.56 seconds\n"
     ]
    },
    {
     "data": {
      "text/plain": [
       "'Barack Obama is an American politician and attorney who served as the 44th President of the United States from 2009 to 2017. He is a member of the Democratic Party and is known for being the first African American to hold the office of President. During his tenure, Obama implemented significant policy changes, including the Affordable Care Act (also known as Obamacare) and the economic stimulus package to recover from the 2008 financial crisis. He is considered a charismatic and influential figure in American politics.'"
      ]
     },
     "execution_count": 15,
     "metadata": {},
     "output_type": "execute_result"
    }
   ],
   "source": [
    "get_openai_response(question)"
   ]
  },
  {
   "attachments": {},
   "cell_type": "markdown",
   "metadata": {},
   "source": [
    "Let's rephrase the question:"
   ]
  },
  {
   "cell_type": "code",
   "execution_count": 16,
   "metadata": {},
   "outputs": [
    {
     "name": "stdout",
     "output_type": "stream",
     "text": [
      "Time taken to run get_openai_response: 0.46 seconds\n"
     ]
    },
    {
     "data": {
      "text/plain": [
       "'Barack Obama is an American politician and attorney who served as the 44th President of the United States from 2009 to 2017. He is a member of the Democratic Party and is known for being the first African American to hold the office of President. During his tenure, Obama implemented significant policy changes, including the Affordable Care Act (also known as Obamacare) and the economic stimulus package to recover from the 2008 financial crisis. He is considered a charismatic and influential figure in American politics.'"
      ]
     },
     "execution_count": 16,
     "metadata": {},
     "output_type": "execute_result"
    }
   ],
   "source": [
    "rephrase_question = \"Tell me more about Barrak Obama\"\n",
    "get_openai_response(rephrase_question)"
   ]
  },
  {
   "attachments": {},
   "cell_type": "markdown",
   "metadata": {},
   "source": [
    "Look at the content of the dbs now:"
   ]
  },
  {
   "cell_type": "code",
   "execution_count": 17,
   "metadata": {},
   "outputs": [
    {
     "name": "stdout",
     "output_type": "stream",
     "text": [
      "Results for table gptcache_question:\n",
      "------------------------\n",
      "(1, 'Who is Barrack Obama?', '2023-07-27 18:35:38.343857', '2023-07-27 18:35:39.434751', b'\\xaa\\x8d=\\xbc\\xe0O\\x04\\xbd\\xd4\\xe9Y\\xbc\\xf3\\xd8\\x93\\xbc(\\xf7d\\xbcP\\x91\\xb6\\xbbR6\\xb5\\xbb\\x0e\\xf6\\x1d;]\\xf8\\xe9\\xbcx+\\x88\\xbb$\\xad\\xe7<\\xbdk\\x1f\\xbb\\x1f\\x13>;d\\xc5\\xf3:\\xa1p\\x87<\\xf1l\\xa4\\xbb\\x1c\\xe5\\x03=\\x1d\\xc3\\x91\\xbc\\xf5\\xb6\\xa1<\\xbdk\\x9f\\xbcK\\x14Y\\xbc\\xce\\x16\\xa1\\xbc\\xecD\\x19<\\x03\\xdf\\x16<\\x06\\xf0\\x84\\xbbD\\x80^;/\\xc4\\xee<\\x1d\\xfc\\xa0\\xbc\\x9a\\x15\\x1c<\\xe3}>\\xbdY\\x91\\xa0<\\xab2\\xbc\\xbc\\n:\\x82\\xbc\\xe2\\xbc|\\xbc4\\xcf\\xad\\xbc\\xd7\\x88)\\xbc\\x83\\x98\\xea\\xbb\\xecD\\x19\\xbc+$\\x96<\\x05\\x84\\x159\\xbb\\xe3\\xec<\\x9aN\\xab;\\x8c{\\x88\\xba\\xd4\"\\xe9\\xbb\\x18\\r\\xa5\\xbc\\x00\\x078\\xbc\\x0f\\x7fY\\xba\\xf3\\x9f\\x04\\xbd\\xa6\\xb5\\xde\\xbcj\\x03\\x93<\\x03\\xa6\\x07=\\xb4\\xa4\\xc4<pd\\xad\\xbb\\xcd\\xc7}\\xbc/\\xe01\\xbcu\\xe1\\x8a\\xbb\\xa3\\x15\\x06\\xbd\\xf3\\xd8\\x13\\xb9+zq\\xbb\\xdb}\\xd4\\xba=zE<\\xb4\\xc0\\x07<M\\xd5\\x1a\\xbcA\\xa8\\xff;\\x85\\x92\\xbb;|\\xcb`\\xbc\\xcdU_\\xbc+\\x964=GX=\\xbc\\x87\\xe2g<\\xc7\\x82&=\\x9c,\\xb9<Yu]\\xbaD*\\x03\\xbc\\xc2\\xcc\\xb9</\\x8b_;\\xf7x\\xec\\xbc\\xec\\x9a\\xf4\\xba\\x16\\xda\\xc4\\xbb\\xd5\\xe3*\\xbc\\xb9Z1<\\x00\\xce\\xa8\\xbcKM\\xe8\\xbb\\x88j\\x9a<\\xc7\\x10\\x08;\\xb1Z\\xc7;\\xc6\\xc1\\xe4:Yu]<e\\x14\\x17\\xbd\\x94\\xb4\\x81\\xbb\\xe03\\xc1\\xbb\\x01\\x90s;\\x1d\\x19\\xed<H\\x03\\xeb<p\\xf2\\x0e\\xbc\\xd7l\\xe6<\\xee\\xb0\\x88\\xbc\\xfe\\x9a\\xc8<j\\xca\\x03<\\xe03\\xc1\\xbc\\xce\\x16\\xa1<\\x9c\\xf3)\\xbc\\xbf-\\xea\\xbc\\xe3\\x0b \\xbc\\xd4\"\\xe9\\xb94]\\x8f\\xbc\\xde\\xaa\\x85\\xbcFz\\xaf9O\\x97\\xe5<\\x01\\x01\\x89\\xbb\\xb1\\x05u<\\x1fh\\x10=Y\\x91\\xa0<\\x1d\\xe0]\\xbd\\xe0O\\x84\\xbc\\xf7[\\xa0\\xbc\\xafC*\\xbc6\\xe6\\xca\\xbc\\x05\\x84\\x15\\xbb\\xf0\\xc7\\xa5\\xbc\\xc0|\\r=\\xa6\\'}<1\\xbe\\xbf<8\\x19\\xab;9L\\x8b;\\xdb\\x0b\\xb6;\\x16\\xf6\\x07\\xbd\\xbb\\xaa\\xdd:\\xcdq\\xa2;\\x18\\x9b\\x86\\xbb\\x80N\\xed:\\x1f\\xda.<\\xcd8\\x93<;c\\xa8\\xbcz{4<`{\\xf6<\\xa4,#\\xbd\\x1c\\x901<IR\\x8e\\xbc[6\\x1f\\xbd#$,;\\x13\\x1e)<\\xf1l\\xa4<g\\x80\\x86\\xbc\\xee\\xcdT\\xbcG\\x91\\xcc<\\x96\\x04\\xae<D\\x0e\\xc0<`\\tX<\\xbd2\\x10;#\\xeb\\x9c<\\xaf\\n\\x1b=\\xf3\\x83\\xc1<\\xc0\\xb5\\x1c\\xbb(\\xda\\x18<g\\x0f\\xf1<\\x16Lc\\xbbR65<n\\xa3k\\xbc\\x83\\x98\\xea\\xbc\\xb1!8;\\xfcJ\\x1c\\xbc\\xdb}\\xd4;r\\xb4Y\\xbb\\xb4\\xdd\\xd3\\xbb\\xd2\\x0b\\xcc<\\x16/\\x97;\\x1c\\x901<\\x9a\\x87\\xba\\xbc\\x08\\xce\\x92<\\x13\\x90\\xc7:=\\xecc<\\x9a\\xdc\\x8c\\xbc\\xc2>\\xd8<[\\xfd\\x0f<\\xc6\\xa4\\x98<\\x9a\\xdc\\x8c\\xbc\\xaa\\xc6\\xcc\\xbb\\xe9\\xdeX\\xbc?\\xad\\xa5;\\xb4k\\xb5\\xbc\\xb8\\xd2~<\\x08@\\xb1<\\xbf-\\xea<\\xea\\xd8)\\xbcz{4\\xb8\\x86\\x8c\\x0c<\\x08\\x07\\xa2\\xbcY\\xe7{<g\\x80\\x86;\\xe2\\x83m<\\x9d_\\x99<\\xb1!8\\xbcR\\x8b\\x87<(\\x13(\\xbf\\x9f!d\\xbc\\x85\\xe7\\r\\xbde\\x14\\x17<q\\x97\\x8d;\\xfe\\xd3W<=\\xcf\\x17<\\x877:<d\\x8c\\xe4\\xbby\\x0f\\xc5\\xbb\\x08]};\\x91j\\x04<-\\xadQ\\xbb1L\\xa1\\xbc\\xf5}\\x92\\xbc\\xa6\\xeem\\xbc[o.:M\\x80H\\xbc\\x83\\xd1y\\xbb\\x0cQ\\x9f\\xbcPX\\xa7\\xbc\\xf7xl<eM&<@\\x8b\\xb3\\xbc-tB;\\x9fZs<\\x0cn\\xeb:\\xfc\\xf5\\xc9\\xbc\\xdeU\\xb3\\xbc\\xf0\\xab\\xe2;\\xbd\\x16M\\xbcr&\\xf8<1\\x13\\x92<\\x11@\\x9b\\xbcl\\xa8\\x11=\\xd5\\x1c:\\xbcP\\xe6\\x08\\xbd\\x87\\xa9X<\\x7f\\xf8\\x11\\xbcF\\xecM<\\xaa\\xff[\\xbcb\\xca\\x19\\xbc\\x881\\x8b<\\xa6\\xb5^\\xbcP\\x1f\\x98\\xbc=\\x96\\x88;\\xaf\\n\\x1b<\\xd4\\x05\\x1d;@\\xfd\\xd1;\\x16/\\x17\\xbb\\xe7\\xc7\\xbb;\\xc9\\xb5\\x06=\\x0f\\x7fY\\xbc\\xde\\x8e\\xc2\\xbb\\x81d\\x01\\xbdp\\xf2\\x0e\\xbc\\xbb\\xaa\\xdd\\xba\\xb9\\xe8\\x92\\xbc2\\x7f\\x01\\xbc\\xf2\\xde\\xc2\\xbbi%\\x85<TM\\xd2<\\xd4\\x05\\x9d\\xbcq\\t,;\\xcdU\\xdf;\\xe7\\x1c\\x8e<\\x15\\xc3\\xa7\\xbc6\\x1f\\xda<\\xe7\\x1c\\x8e<\\x0e\\xbd\\x8e\\xbc\\xad\\x82h<\\xb1\\xcce<=A6<G\\x1f\\xae;\\x8f\\xfe\\x94<6X\\xe9\\xbb\\x08\\xce\\x92<\\xc9`\\xb4\\xbc\\xa4,#<I\\xc4\\xac:y\\x81c\\xbc\\xff\\x94\\x19\\xbc\\xa6\\xb5^\\xbbK\\x14Y\\xbc\\xe2-\\x92<\\xb1\\x05u<b\\x91\\n\\xbd\\x11@\\x9b;\\xfc\\xf5\\xc9;:\\xdb\\xf5\\xbb\\x8f\\xe2Q<\\x07\\xd4\\xc1<$t\\xd8;Nz\\x99\\xbc-\\xc9\\x14\\xbc\\x1dR|;\\x0eh\\xbc\\xbc\\xd2`\\x9e:NA\\n<Y\\x1f\\x82<\\xdc>\\x16<\\x13\\xc9V;\\xb2\\xffE<\\xb1v\\x8a;\\xbf\\xd7\\x0e;\\x8a\\x81\\xb7:O\\xd0t\\xbc\\x0fb\\r<n\\xdcz<\\xaf|9\\xbc?\\xad\\xa5<\\x91\\xdc\"\\xbc\\x9f!d\\xbb\\xdb}\\xd4\\xbb\\x16\\x13T;j\\x03\\x93\\xbc&\\xe0\\xc7;\\xdb`\\x88<\\x98\\xa9\\xac<l\\x8cN\\xbcDG\\xcf;\\xbd\\x16\\xcd:\\x05\\xf63<\\xfc\\x83\\xab\\xbc!\\x7f-\\xb9\\xcd8\\x93<DGO\\xbb\\xd4w\\xbb\\xbc\\x8e\\xaf\\xf1\\xbc\\x87\\x1b\\xf7;\\xbf-j\\xbb\\xd2`\\x9e\\xbb\\xa1TD\\xbby\\xba\\xf2\\xbb\\xd0\\xd8\\xeb<\\x16Lc<\\x95\\xed\\x90:Y\\xca/\\xbb~\\x1a\\x84\\xbcNA\\x8a\\xbbA\\xa8\\x7f\\xbc\\x80\\x15\\xde;\\xa8!N<\\xf9r=<\\x93\\x81!\\xbd$W\\x8c\\xbc\\x81\\xd6\\x9f\\xbb\\xbf\\xf4Z\\xbce\\x14\\x17\\xbdP\\xca\\xc5<\\x98p\\x9d<9iW\\xbcb\\x03)\\xbc-\\x90\\x85<K\\xf7\\x0c:\\xa1TD\\xbc:\\xdb\\xf5\\xbc\\xb6\\x82R\\xbc9L\\x0b\\xbc\\xc0|\\r<U\\xd5\\x84<\\xa6\\n1<w\\xbf\\x18\\xbc\\xdbD\\xc5;\\x9f\\x04\\x98<\\xfc\\xf5\\xc9;\\x1d\\xe0\\xdd;/5\\x04<Yu\\xdd\\xbbz\\t\\x96\\xbc\\xd4\\xb0\\xca<\\xfe\\x9aH\\xbc9\\xbe)\\xbcWz\\x03\\xbcU\\x802\\xbc(\\xa1\\x89\\xbbU\\x802<6\\x1fZ\\xbc[6\\x1f\\xbc\\x80\\xa3?<\\xf9\\xabL<\\xb2\\xff\\xc5<\\xd4\\x05\\x9d\\xbc\\xe5\\xe9\\xad\\xbc(\\xda\\x18<\\x96=\\xbd:\\x1c\\x02P\\xbbF\\xb3\\xbe<Y<N;\\x03Q\\xb5;k\\x92\\xfd\\xbb-;3=\\xfc\\xf5\\xc9<\\x8c\\xed\\xa6<\\xc2w\\xe7\\xbb\\xd0\\x82\\x90\\xbb\\x95Cl\\xbb\\xa6_\\x83\\xbb+z\\xf1<\\x98T\\xda<\\xaaqz<(\\xf7d<\\xf8\\x00\\x9f<\\xf1l\\xa4;Ti\\x15<\\xc2\\xcc9\\xbd\\x9a\\xdc\\x8c;\\xc0\\xee\\xab\\xbc\\xf3\\x9f\\x84<P\\xe6\\x88<\\x8a\\xba\\xc6<9\\xa2\\xe6\\xbc\\xf8\\xc7\\x0f<\\xad\\x82h\\xbb\\xb8C\\x14\\xbb\\x0c5\\\\<\\xfe\\xb6\\x0b\\xbb\\xb9Z\\xb1<e\\x865\\xbc`^*\\xbc\\x0e/\\xad;\\xb2\\xff\\xc5<@6\\xe1\\xbc\\xe9\\xde\\xd8\\xbc\\xdb\\xb6\\xe3:^+\\xca<\\x9f=\\xa78\\x9a\\x15\\x9c<1L\\xa1<R\\x1a\\xf2\\xbcNz\\x99<\\xad\\xbb\\xf7:\\x1fL\\xcd;\\xe2\\x11O<\\xd4[x\\xbc\\xfc\\x11\\r\\xbb\\xfa\\xfbx\\xba\\xd0\\x11{\\xbcG\\xca\\xdb</RP\\xbbP\\x91\\xb6\\xbc\\x01W\\xe4<\\xcb>\\xc2<\\x83\\xb4\\xad\\xbb!F\\x9e<2\\xb8\\x10:\\xdc>\\x16=T\\xdb3<\\x91\\xf9\\xee\\xb9\\xe7\\x8e,;\\x81d\\x01\\xbc\\x85 \\x9d\\xba\\x81\\x81M;\\xfa\\x17\\xbc<\\xe5\\x06z\\xbc&\\xfc\\n\\xbd\\xab2\\xbc9\\xc0\\'\\xbb;\\xa4e\\xb2;\\xfa\\xc2\\xe9<+\\x08\\xd3<U\\xf2P<\\xdc>\\x96;\\x83{\\x1e\\xbc\\xf2\\xa5\\xb3<4\\x96\\x9e\\xbb\\xde\\x00a<\\xcb\\x053<\\xbf\\xbb\\xcb\\xbb$;I\\xbc\\x00\\x078<2c\\xbe<\\ns\\x11=u\\xe1\\n\\xbd\\xdb\\xefr<\\x1f\\xa1\\x1f<\\xc0|\\r<\\xf8\\xc7\\x0f\\xbc*\\xf1\\xb5<\\n\\xac\\xa0\\xba\\xb1\\xcce\\xbc\\xfc\\x83+\\xbdl\\xe1 <w17<\\x1d\\xc3\\x11\\xbcVd\\xef\\xba\\xfc\\xbc:\\xbcY\\xael;\\xd0\\x11\\xfb\\xbc[\\xfd\\x8f<;\\xf1\\x89\\xbc\\x93\\x0f\\x03<\\xce\\xdd\\x91;\\xbd\\xa4\\xae\\xbc\\xe4\\xb6\\xcd:`\\t\\xd8;\\xa4\\xba\\x04=!\\xf1K<B\\xf7\\xa2<p+\\x9e\\xbcP\\xe6\\x88;B\\x85\\x84\\xbb\\x1a\\x08\\xff<g\\xd6\\xe17\\x1fLM<\\x87\\x1bw<\\xaa\\xa9\\x80<9\\x85\\x1a;6\\xad;<y\\xd6\\xb5\\xbb!\\x9c\\xf9;\\xb1!\\xb8\\xbc\\xce\\x16\\xa1\\xbc\\x07\\x9b\\xb2;\\xfe\\xb6\\x8b\\xbbn\\x86\\x9f<i\\xd02<!\\x7f-\\xbc\\\\M<<b\\xca\\x19<\\xa8=\\x91\\xbb\\xeca\\xe5\\xbb\\xbbT\\x82\\xbc\\xd7\\xa5u\\xbb\\x80\\x87\\xfc=/\\xa7\"<O\\xd0\\xf4\\xbb@\\x8b\\xb3<\\xc9\\x99\\xc3\\xbcp\\xf2\\x8e;4\\x08\\xbd\\xbc\\x96vL\\xbd\\x01\\x1eU<\\xcd\\x1cP\\xbcY\\x91\\xa0\\xbc\\xe0\\x88\\x13<\\xe3}>\\xbb\\x95\\n]\\xbb\\x1a\\xb2\\xa3<i%\\x85;\\xfcJ\\x9c<\\x15Q\\t\\xbdO\\xd0t\\xbbK\\xa2\\xba\\xbc\\xbbT\\x82\\xbcR\\xa8\\xd3<\\xe93+\\xbb4$\\x80<\\x16\\x13T9\\xbf\\xd7\\x8e\\xbc6t\\xac9\\x0c\\xa7z;\\xce\\x16\\xa1\\xba\\xc2w\\xe7\\xbc\\xb8\\xb5\\xb2\\xbc+\\xeb\\x869k\\xae\\xc0:\\xb1\\x93\\xd6;T\\x14\\xc3\\xbb\\xc0\\xee\\xab<\\xe2f!\\xbc\\xe5>\\x80;D*\\x03\\xbc\\xa6\\xeem\\xb99\\xa2\\xe6<\\x96\\x92\\x0f\\xb8\\x87\\xe2\\xe7\\xb9&\\xfc\\x8a\\xbc\\x05\\x84\\x15<\\x83{\\x1e\\xbc\\xee[6\\xbc\\xb2\\xff\\xc5<U\\xf2P<G\\xe6\\x9e\\xbb\\xa3\\xc03<\\xee\"\\xa7;\\xd5UI\\xbc\\x95&\\xa0\\xbaB\\x85\\x84\\xbc\\x7f\\xbf\\x82\\xb9\\x1c\\xc9\\xc0\\xbb\\xf3J\\xb2:\\xb8\\'\\xd1\\xbb&\\xfc\\x8a<\\xc7\\x10\\x88\\xbc\\xd0\\x11{\\xbbg+\\xb4;GX=\\xbcDGO<x+\\x08\\xbd/RP\\xbb\\x08\\xce\\x12\\xbc\\xc6k\\x89\\xbb\\x98T\\xda\\xbb\\x1c\\x1e\\x13<Fz/\\xbdWz\\x83\\xbcG\\xad\\x0f<\\xb9\\xe8\\x92<`^\\xaa\\xba\\x05\\xbd\\xa4<\\xf3\\xd8\\x13\\xbcg\\x80\\x06<\\xb4\\xc0\\x87\\xbc?t\\x16<\\x9d_\\x99\\xbc\\x96vL;e\\xf8\\xd3\\xbc$\\xad\\xe7\\xbbW^\\xc0\\xb8\\xcdq\":\\xe4\\xb6M:\\x87\\xa9X\\xbb\\x96\\xcb\\x9e<\\x03\\x18&\\xbc\\x91\\x87P;b\\xca\\x19:?t\\x16\\xbc\\x0c\\xfc\\xcc\\xbb\\xc2!\\x0c\\xbc#\\xb2\\x8d<|\\xae\\x94;\\xad\\xd7:\\xbc/\\x19A\\xba@R\\xa4\\xbc\\x83{\\x9e\\xbc\\x08]}\\xba\\x1d\\x19\\xed;\\x13W8<\\x80j\\xb0;\\x98TZ<\\x8aH\\xa8;\\x1fLM\\xbc\\xadI\\xd98\\xd9\\x9fF<\\x83\\x98\\xea\\xbc| 3<|Y\\xc2\\xbc\\xf2\\xdeB<KMh<1\\xbe\\xbf<\\xfe(*=\\x91j\\x84\\xbc\\xf99\\xae\\xbb9\\xa2f\\xbcz\\xb4\\xc3\\xbc\\x91j\\x04=\\x7f\\xf8\\x91<R\\x8b\\x87\\xb9\\xc6k\\x89\\xbc\\x08]\\xfd\\xba\\x15\\xc3\\xa7;F\\xcf\\x01<\\xd9\\xbb\\x89\\xbb\\xbbq\\xce:\\xb2\\xffE<\\x1d\\x19m\\xbc\\xd4\\xcc\\x8d\\xbc:\\xdb\\xf5\\xbcR\\xc4\\x16\\xbb\\x87\\xe2\\xe7\\xbcy\\xba\\xf2<\\x1dR|\\xbcO\\xd0t\\xbcy\\x0fE\\xbc\\xc2!\\x8c\\xbc\\xc48)\\xbb\\xd7\\xc18\\xbd$tX\\xbc\\xe3\\x99\\x01\\xbd\\ns\\x91\\xbc\\xb9\\xe8\\x92;B\\x85\\x84\\xbc\\x13\\xc9V<lS?\\xbc\\xe5\\x94\\xdb<=%\\xf3\\xbc\\x98\\x8d\\xe9\\xba\\xe3\\x0b <[\\xa8\\xbd\\xbc-t\\xc2;\\xf7\\xb1{\\xbc\\xd4\\x05\\x9d<\\x98T\\xda<\\x9d\\n\\xc7<\\xe2J\\xde;l\\x1a\\xb0<g\\xd6a<\\x1a\\x08\\x7f<@6a\\xbc\\xbb\\xaa\\xdd\\xbb9iW\\xbbW^@\\xbbK\\xdbI<@R$<\\xd7\\x16\\x0b<T0\\x86\\xbc\\xdc>\\x16<O\\xd0\\xf4;(\\xda\\x18\\xbc\\xde\\xaa\\x85;\\x00\\xce\\xa8\\xbc\\xe2-\\x12\\xbd\\x9c\\xba\\x9a\\xb9\\xd9\\xbb\\t\\xbcAop\\xbc\\xd7\\x88\\xa9\\xbcF\\xb3\\xbe;\\xb4\\xdd\\xd3\\xbb\\xa6\\x98\\x92\\xbc\\n\\x1e\\xbf<\\xf8\\x00\\x9f;B\\xf7\\xa2\\xba\\xe5w\\x0f\\xbd\\x08]}<\\xaa\\x8d=;9\\x85\\x9a<kYn;&\\xe0G</\\x19\\xc1:\\x85\\xe7\\x8d\\xb9k\\xe7\\xcf;\\x16h\\xa6<\\x87\\xe2g<\\xe9P\\xf7<\\xa4,#\\xbc\\x8a\\xbaF\\xbc\\\\\\x14\\xad:\\x88j\\x1a;\\xe2\\xbc|<\\x16\\x85r\\xbc9\\xa2f<kYn<KMh\\xbc\\x83\\xed\\xbc\\xbb\\xa1T\\xc4\\xbc\\xe9P\\xf7\\xbc\\x0f\\r\\xbb\\xbc\\x03\\xa6\\x87\\xbb\\x81\\xd6\\x1f<\\xe03A\\xbc\\xbf\\xf4\\xda<P\\xcaE\\xbc\\xe3\\x99\\x81\\xbc(L7\\xbcc6\\x89\\xbb\\xd4[x<\\xc4q8;\\x877\\xba<u\\xe1\\n:\\xce\\xc1N\\xbc\\x8fp3\\xbc\\x8a\\x817<D*\\x83<Y\\x91\\xa0\\xbb\\xf1\\xfa\\x85<\\x81d\\x01=\\xd5q\\x0c\\xbc(0\\xf4\\xbc/\\xc4n;!*\\xdb;\\x86\\x8c\\x8c\\xbcq\\x97\\x8d\\xbc\\xdd\"S<~\\xc51;\\x15nU\\xbc\\x8f\\xc5\\x85;!c\\xea\\xbc\\x8f\\xc5\\x05<\\xd7l\\xe6<\\xe9\\x17\\xe8\\xba\\xd5\\x1c:\\xbc+Ab\\xbc\\xee\\xe9\\x17\\xbdb<\\xb8\\xbc/n\\x93\\xbc\\x81\\x9d\\x90\\xbc\\xb4\\xddS\\xbci\\x97#<\\x0cn\\xeb\\xbc=\\xecc\\xbc~\\x8c\"\\xbd=%s<\\x13W\\xb8\\xbb\\xa1\\x8d\\xd3\\xbc\\xb9!\"<\\xd5\\x1c\\xba<\\xe0\\x88\\x93\\xbb\\xfeEv\\xbc\\xb9\\xe8\\x12\\xbc~\\x1a\\x84\\xbc\\x18\\xb8R;~S\\x93\\xbbM\\x0e\\xaa<\\xa4\\xba\\x04\\xbd\\xf8\\x00\\x9f\\xbcR\\x1ar\\xbby\\xba\\xf2\\xba\\xbd2\\x90;`{v<\\xe9l:\\xbb2\\x7f\\x01\\xbcRoD\\xba\\x18\\r%;\\xbbT\\x029\\xcd\\xff\\x83\\xbc\\x1a]\\xd1\\xbc\\x9d_\\x19\\xbbN^\\xd6\\xbb\\xc6\\xfas\\xbc\\x83\\xb4\\xad\\xbc\\xa4\\xf3\\x13<\\xdb\\xd2\\xa6<\\xc4q8\\xbc\\xa4\\xf3\\x13\\xbd\\x81H>\\xbc\\xf3J\\xb2;NA\\n<\\x15nU<\\xd9\\xf4\\x98\\xbc\\xb4\\xc0\\x07<\\xceO\\xb0<9\\xbe)\\xbdW\\xec\\xa1\\xbb\\xc7\\x10\\x08<\\x87p\\xc9</\\x8b\\xdf\\xbbM\\x9c\\x8b:\\xf7\\xcd>;\\xf3\\xbc\\xd0\\xbc\\xfa\\x17\\xbc<-\\x90\\x05\\xbcGt\\x00\\xbc\\xd2\\x99-\\xbdz\\xb4\\xc3\\xba\\x05hR\\xbb\\x98\\xc6x;\\xbb\\xe3\\xec\\xbb\\x03\\x18&<\\x0c\\xfcL\\xbcju1<\\xc7\\xf4\\xc4;\\xd73\\xd7\\xbc\\xe2J^<\\xb42&\\xbc\\xa3\\x15\\x86\\xbb\\xb8C\\x94<\\xf13\\x95\\xbcN%G<$W\\x0c=Wz\\x83\\xbc\\xe2\\xf4\\x82<\\xd2\\'\\x8f\\xbc\\xd5\\x1c:\\xbc\\x1d\\xa7N\\xbc\\xc2w\\xe7<R\\xfd\\xa5;\\xc9\\xee\\x15\\xbc\\x08\\x07\\xa2\\xbcGX=<c\\xa8\\xa7\\xbc\\x85\\xe7\\x8d<Ti\\x95\\xbc\\x03\\xdf\\x96\\xbc/\\x8b_\\xbbr&\\xf8<\\xfc\\x11\\x8d;`B\\xe7:\\x9c\\xba\\x9a<\\xa1\\xa9\\x16\\xbd\\xa3\\x87$\\xbc\\xe5w\\x8f\\xbb\\xb2T\\x98\\xbc*\\x7f\\x17\\xbd\\x08$\\xee\\xbc\\xe2\\xd8\\xbf<\\xab\\x87\\x0e<\\x83\\t\\x80<\\x94\\xb4\\x81\\xbc\\x0e\\xbd\\x0e\\xbc\\xe9P\\xf7\\xbc\\xfc\\xf5I<\\xd7\\x16\\x0b<\\xbdk\\x9f<F\\x08\\x91;\\xe7\\x1c\\x0e\\xbc`B\\xe7\\xb7;\\xf1\\x89<\\xc4q8\\xbc\\xfa\\x89\\xda<V+\\xe0\\xbc\\x9fZ\\xf3\\xbb\\xaf|\\xb9;G\\x1f\\xae\\xbc$W\\x0c<s\\xae\\xaa:\\x87\\xfe\\xaa;\\xd5U\\xc9\\xbbG\\x91L<F\\x08\\x11;\\xab\\xf9,<\\x1a\\xeb2<\\xcd\\xe3@\\xbc\\x01:\\x98\\xbc\\xaa8\\xeb\\xbb\\xbb\\x8d\\x11;\\x98T\\xda9\\n\\x1e\\xbf</n\\x13;V+\\xe0\\xbc\\xa8v <=\\xec\\xe3;+zq\\xbb?\\xad%;e\\xdb\\x07;\\xa6\\'}\\xbc\\x98\\xe2\\xbb\\xbcWz\\x03<=A\\xb6\\xbb\\xd4\\xcc\\r\\xbc\\x0cQ\\x9f\\xbb\\x1fh\\x10<\\xff\\x94\\x19\\xbb\\xc7\\x82&\\xbb\\x1d\\xa7\\xce\\xbbY<N<\\x9a\\x15\\x1c\\xba\\xade\\x1c:\\x1d\\xe0];@\\xe0\\x85;\\x9d\\xd1\\xb7\\xbb\\x81d\\x01<|\\x04p\\xbc\\xf2\\xde\\xc2\\xbc\\xd2`\\x9e<\\xde\\x00\\xe1\\xbcD\\x80\\xde;R\\xfd\\xa5\\xbc\\xbdk\\x9f;\\x8a\\x0f\\x99<\\x95&\\xa0\\xbb\\xc2!\\x0c\\xbc\\x05\\xa1\\xe1<\\x08\\x07\\xa28\\xfcJ\\x1c;\\xc4\\xff\\x19;4\\x08\\xbd:\\x9fv\\xb6\\xbbK\\xa2\\xba\\xb7\\xbf\\xf4\\xda\\xbc\\xc6OF<j<\"\\xbc\\xfal\\x8e<z\\xedR<YX\\x91\\xbcz\\xd0\\x86\\xbc|u\\x85<z\\xed\\xd2<\\x9c\\x81\\x0b\\xbcH<z<\\x0f\\xf1w>MG9\\xbc\\xbf-j<\\x9f=\\xa7<\\x87\\xc5\\x9b\\xbc\\xbd\\x16\\xcd<\\xf5\\xef0\\xbbR\\xc4\\x16\\xbb\\x96=\\xbd\\xbc\\xdc\\xe9\\xc3:\\x96Y\\x00\\xbc\\xbf-j<\\x95Cl\\xbc\\xeaf\\x0b<G\\x91L\\xbcK\\xa2\\xba\\xbc/\\x8b\\xdf\\xbc\\xb4\\x16c\\xbc\\xa4\\x9e\\xc1\\xbb\\xd0I\\x01\\xbd^+J<\\x0eh<\\xbb-\\x90\\x85\\xbc\\x16\\x85r\\xbc\\x8c&\\xb6<\\x8c{\\x08=R\\xfd%\\xbc\\x87\\xfe\\xaa\\xbb\\xdbDE<\\xf5a\\xcf;R\\x8b\\x07\\xbc2\\x0e\\xec\\xbbn1\\xcd\\xbb\\xaa8k<\\xcd\\xc7}<M\\x0e*<I6\\xcb;/\\xfd}\\xbc\\xe9P\\xf7\\xba*\\xb8\\xa6<`\\xec\\x8b\\xbc\\xafC\\xaa;\\x03Q5\\xbc\\xf3.\\xef\\xbbW\\xb3\\x12;\\x1c\\x02P<\\x9c\\xd7\\xe6;\\xbffy\\xbc\\xa3\\xdd\\x7f<\\xc2\\x05\\xc9<\\x18\\r\\xa5\\xbc\\xbb\\xaa\\xdd\\xbcR659H\\x03\\xeb<\\xe9\\xa5\\xc9\\xbac\\xa8\\'\\xbb\\x87\\xe2g;B\\xa2P<Nz\\x19<2\\xf1\\x9f<\\xf5\\xef\\xb0;Nz\\x19=b\\x91\\n\\xbc\\x9c\\x81\\x0b=\\xf8\\xc7\\x8f<\\xeca\\xe5<\\xder\\xff\\xbc\\x85\\xcb\\xca;T0\\x06<\\xaa\\xa9\\x00\\xbdM\\x0e*\\xbb\\xe9\\x17h\\xbc\\xe2\\x11O\\xbc\\x9aN+\\xbc\\xe2\\x11O\\xbc\\xc2!\\x8c;/R\\xd0<\\xa4\\xba\\x84<K\\xf7\\x8c<K\\xdbI;!\\xb8\\xbc\\xba\\xc7\\x82\\xa6\\xbc\\xd9\\xbb\\x89\\xbc\\x8a\\xbaF<\\xb8\\xeeA;\\x93H\\x12\\xbd\\x07b#<\\xcbZ\\x05\\xbc=\\xec\\xe3\\xbb\\xb1Z\\xc7\\xbb\\xbffy\\xb9G\\xca\\xdb\\xbc\\xb4\\xa4D\\xbc\\x93H\\x12<\\xbfI-;**E<1\\xbe?<P\\x1f\\x98<\\xe2\\x83m\\xbc\\x07\\rQ<|=\\x7f\\xbc8\\xe0\\x1b=\\x0f\\x7f\\xd9<\\x1cW\"\\xbcM\\x9c\\x8b\\xbck _\\xbb\\xaa8k<K\\xa2:<(\\xbe\\xd5;I\\xfd\\xbb\\xbcV\\x9d~\\xbcF\\x08\\x11\\xbcq\\t\\xac<\\xee\\xb0\\x88\\xbb90\\xc8<p\\x9d\\xbc;i^\\x94\\xbc\\x81d\\x81\\xbc\\x1d\\xe0\\xdd<\\xaa8\\xeb\\xbc\\xe2f!<\\xadI\\xd9\\xbcj<\"\\xbcU\\xf2P\\xbb\\xdeU3\\xbcu\\xe1\\n\\xbb;\\xf1\\x89\\xbc\\xf0\\xab\\xe2;R65\\xbc\\xe2\\x83\\xed\\xbc\\xc0|\\r<P\\xe6\\x08\\xbd\\\\\\xdb\\x1d;1L!<i\\xd02\\xbc\\x07\\x9b\\xb2\\xbc|\\x04p\\xbb\\xad\\x82\\xe8;c\\xe16;\\x98\\xc6x<eM&\\xbcY\\xae\\xec:\\x98\\x8di\\xbc`\\tX\\xbb\\xbd\\xf9\\x00<\\xd2\\x0bL\\xbc&\\xfc\\x8a<e\\x86\\xb5\\xbb\\xe5\\xb0\\x1e\\xbb\\x01:\\x18<\\xe5[\\xcc\\xbc\\xf0\\x8e\\x96\\xbaK\\xf7\\x8c<\\xa6\\xee\\xed\\xbc9\\xa2\\xe6:\\x881\\x8b<j\\x03\\x93\\xbc\\\\\\xa2\\x0e\\xbd\\x85 \\x9d\\xbc\\xf9r=<\\xfa\\xa5\\x9d;n\\x14\\x81<\\xbb\\x8d\\x11=\\xe9\\xfa\\x9b\\xbc\\xf3\\x9f\\x84\\xbc=A\\xb6;\\x8f7$\\xbe\\xe2\\x83\\xed<\\xc6O\\xc6<]1y\\xbcYX\\x91<`\\xd0\\xc8\\xbb\\xa6\\x98\\x92<\\xee\\xb0\\x88\\xbc/\\xa7\\xa2\\xbc\\xb4O\\xf2<\\x94\\xb4\\x01<\\xa8\\x04\\x82<\\x93\\x0f\\x03\\xbd*F\\x88;\\xa6\\'};\\xe7\\xc7;\\xbcGt\\x80;\\xb6\\x9e\\x15<\\xf3.\\xef;\\x13;\\xf5:\\x88j\\x1a=\\xe5[\\xcc<\\xd73\\xd7;\\x8a\\x817\\xbcI\\xfd\\xbb;\\xe5\\x06z\\xba\\x18\\xd4\\x15\\xbcF\\xb3>=\\xbf\\xd7\\x0e\\xbc\\xd4\\xb0J\\xbc#$,\\xbc\\x07\\xd4\\xc1\\xbcY\\x1f\\x82<\\xb4\\xa4D9\\xff\\x94\\x99\\xbb\\xb9\\xcc\\xcf9T\\x14\\xc3<@\\xe0\\x85\\xbcP\\xe6\\x08\\xbc\\x95\\xed\\x90<\\x8evb=pd\\xad<\\xf3\\xbc\\xd0<\\xe0\\x88\\x13\\xbck\\xae@\\xbb6\\x02\\x8e<Ao\\xf0<\\xfe\\xb6\\x8b<P\\x91\\xb6\\xbbY\\xael\\xba$\\xadg<g\\x80\\x06\\xbd\\x91\\xf9n\\xbbs I\\xbce\\x86\\xb5<\\xde\\xaa\\x05=\\xbd\\x16\\xcd;\\n:\\x82;\\x85\\xe7\\r\\xbcw\\xf8\\xa7\\xbc\\xb6e\\x86\\xbc1\\x13\\x12\\xbc\\x1d50<D\\x80\\xde\\xbc\\xdc\\x05\\x87\\xbc\\xc7\\x10\\x08<\\x01:\\x18\\xbc\\xdc\\x05\\x07;W\\xec!\\xbcu\\x1a\\x1a<\\x80\\x15\\xde;\\x85Y,\\xbc**\\xc5:\\x8c{\\x08\\xbdb\\x91\\n\\xbc\\xc6OF<\\xbbT\\x02\\xbc\\x85 \\x1d=\\x87\\xa9\\xd8\\xbb\\xa8\\xe8><!F\\x1e\\xbc\\xb1\\x05\\xf5<-\\xadQ\\xbc\\x1c\\x02\\xd0;=\\xb3\\xd4<\\xf3.\\xef\\xbb\\x1a\\x08\\x7f<=\\xec\\xe3<\\x93H\\x12\\xb9s \\xc9\\xbc\\xc2w\\xe7;\\xde\\x1c$\\xbdb\\x91\\n\\xbcAop\\xbc+$\\x96<r{\\xca;\\x91\\xf9\\xee<\\x9fZs<\\x08\\x07\"<\\xa6\\xb5\\xde\\xbc\\xb6\\x9e\\x15;\\xd5UI;\\xfa\\xa5\\x9d\\xbc=\\x08\\xa7<U\\xd5\\x04=F\\xcf\\x01\\xba[\\xfd\\x0f\\xbc\\xad\\x82\\xe8</\\xc4n\\xbb\\xc6\\xfa\\xf3:\\xc7\\x10\\x08\\xbdr&x\\xbc9L\\x0b=\\x9c,9=\\xa6\\xb5\\xde;\\xc2>X;I\\x8b\\x9d:NA\\n\\xbc\\x1a\\x96`<\\x81d\\x81;\\xf3\\x11#=\\xb9\\xaf\\x03\\xbab\\x03)\\xbc\\xf8\\x8e\\x00:b\\xca\\x99\\xbc\\xaf\\n\\x9b\\xbc\\xbf\\xf4\\xda\\xbd\\x877\\xba\\xbcR\\x8b\\x87<\\xde\\x00a:\\xec\\x9at<\\xc7\\x10\\x08=\\x08@1<\\xd4[x<`%\\x9b\\xbc\\x7f\\xbf\\x82<\\xe5\\x06\\xfa\\xba|\\xae\\x14\\xbdBiA;\\x18\\r%\\xbc\\xf5aO<\\x91\\xc0_\\xbc\\x0c\\x8a.\\xbc\\x05\\xbd\\xa4\\xbcw\\xbf\\x18\\xbd\\x9c\\x9eW<\\xce\\x88\\xbf\\xbb~\\x8c\"\\xbb/\\xa7\";\\x83{\\x1e<\\xc9\\xee\\x95\\xbb\\xf3\\xd8\\x93\\xbc\\xb6\\x82\\xd2\\xbc\\xf7\\xe9\\x819\\x91j\\x84<\\xecae;!c\\xea\\xba!c\\xea\\xbc\\x8ev\\xe2;I\\x8b\\x9d\\xbc\\xc7\\xf4\\xc4<R\\xc4\\x16<K\\x14Y\\xbd\\x9a\\x87\\xba\\xba\\x05\\xda\\xf0\\xbap+\\x1e\\xbd\\xfe\\xef\\x9a\\xba1\\xda\\x02\\xbc\\xd4[x<\\xd5\\xaa\\x1b\\xbd9\\xf7\\xb8\\xbb\\x08\\xce\\x12<\\ns\\x11;\\x8f\\xc5\\x05;q\\x97\\r=\\xd7O\\x1a\\xbb\\x13\\x1e\\xa9\\xbc\\x80\\x15^\\xba\\x15\\x8a\\x98\\xbc*\\x7f\\x17\\xbc\\xf3\\x83\\xc1;l\\xa8\\x91\\xbb\\x1c\\xc9@\\xba\\x1a$\\xc2<V\\x9d~\\xbb\\xaa\\xff[\\xbc~\\xc5\\xb1<n\\xa3\\xeb;\\xbb\\x8d\\x11\\xbd\\xb1!8;\\x98\\x8di<!\\x7f-\\xbb\\xf7\\xcd><\\xcdq\"<\\xbf-\\xea<s<\\x0c\\xbd\\xadI\\xd9\\xbbg\\x0f\\xf1<\\xab\\xc0\\x1d\\xbc/RP<\\xc2w\\xe7\\xbbM\\xd5\\x9a;\\x8c\\xed&\\xbc\\x83B\\x8f<\\x98\\xa9,:g+\\xb4\\xba\\x0e/-\\xbc\\xe9\\xdeX\\xbc\\xc2Z\\x1b;\\xb8\\'Q\\xbc\\x0e\\xbd\\x8e<\\xe9P\\xf7</\\xe0\\xb1\\xbc\\xce\\x16!:\\x13\\x02f<\\x9a\\xdc\\x8c;\\xcd\\x8e\\xee\\xb9F\\xcf\\x01=q\\x97\\r;\\xfa\\xfb\\xf8\\xbc\\x8e\\xcb4\\xbc\\x80\\x15\\xde<4\\x96\\x9e<\\x9d&\\x8a;\\xd7l\\xe6<\\xc7I\\x17=\\xaa\\xe2\\x8f\\xbc\\x1a\\xcfo9;\\xf1\\x89\\xbd\\xc7\\xbb\\xb5<\\xbf\\xf4\\xda\\xbc\\xe9\\xde\\xd8\\xbc\\x95Cl<\\x83\\x98j\\xbc\\xbbq\\xce;i\\x97\\xa3\\xbc6\\xe6J\\xbcK\\x86\\xf7<[\\xc4\\x80\\xbc\\x01\\xac\\xb6;\\xee\\x94\\xc5\\xbbkY\\xee\\xbb\\xd9\\xbb\\x89\\xbcB\\xf7\":\\xb9\\xaf\\x03=\\xaa\\xa9\\x00;\\xf8\\xc7\\x0f=\\xbf\\xbb\\xcb<\\\\\\xa2\\x0e\\xbd\\x0c\\xa7z:\\xa6\\xb5\\xde<\\x9d&\\x8a\\xbc\\x11y*;\\xc9\\x0bb<\\xa8\\x04\\x02\\xbd\\xfal\\x0e=\\x81\\xd6\\x1f\\xbd\\x0fb\\x8d\\xbc\\xd7\\xa5u\\xbc\\x18\\x9b\\x86\\xbc\\xe5w\\x0f\\xbc+zq<D\\xf2|\\xbb\\x80\\x87|\\xb9(\\xa1\\x89;M\\xd5\\x1a;GX=\\xbcz{4=\\xf2\\xa53\\xbc\\xc2Z\\x1b\\xbd\\xd9\\x9f\\xc6;\\x95|\\xfb\\xbc\\xad\\x9e+\\xbc\\x91\\xdc\\xa2<\\xfe\\xef\\x1a\\xbc\\xe5>\\x00<\\xab\\x87\\x8e<\\xd4\\x05\\x9d\\xbc\\x1dR\\xfc\\xba\\xec(\\xd6<\\x05\\xbd\\xa4\\xbcY\\x03\\xbf\\xbbl\\xa8\\x91;j\\xca\\x83\\xbc\\x91\\xc0_<\\xc7I\\x97<\\xbb\\x8d\\x11:\\xa8\\xaf/\\xbd\\x1fL\\xcd<\\xa4e\\xb2;\\xecD\\x99<\\xd9-(<\\xa8\\xe8\\xbe<\\x05\\xa1a<\\x16\\xa15\\xbb=\\xec\\xe3;\\xd4w;<\\xb2\\xc6\\xb6\\xbcy\\x81c\\xbcc\\xe1\\xb6\\xbc\\x81\\xd6\\x9f<\\xde\\xaa\\x05\\xbbuS\\xa9;\\x08y\\xc09\\xa3ka<\\xcdU_\\xba\\xb2\\x1b\\t\\xbd^\\xf2\\xba<\\xc0\\'\\xbb\\xbb\\xb2\\xc6\\xb6\\xbb\\xe9\\xc1\\x0c\\xbdb\\xca\\x99\\xbb\\x1f\\xda\\xae<n\\xf8=<N\\xec7<\\x1d\\x8a\\x82\\xbbwjF;\\x1f\\xda\\xae<l\\x8c\\xce\\xbcp\\xd6\\xcb;\\xf7\\x94/\\xbc$\\x90\\x9b<4AL\\xbb\\xa3\\xc03\\xbc\\x83\\xb4-<\\xc7\\x82\\xa6\\xbb\\n\\x1e?<\\xf7\"\\x11=R\\x1ar\\xba~7P\\xbc\\x1a\\x08\\xff\\xbb\\xc6\\x88\\xd5\\xbc\\xa4e2\\xbc2\\x0e\\xec:Y\\xca/\\xban\\x14\\x01\\xbd\\xfa\\x17<;\\xbf\\x10\\x1e<\\xfc\\x83\\xab<\\xa6C\\xc0<g\\x0f\\xf1\\xbb\\x80N\\xed<\\x8e\\xaf\\xf1\\xbcM\\xd5\\x9a;\\xf5aO\\xbbM\\xd5\\x1a\\xbd`\\xec\\x0b\\xbd\\x81\\x9d\\x10=\\x91j\\x04<NA\\x8a\\xbcq\\x97\\x8d<\\xe2f\\xa1\\xbc9\\x85\\x1a\\xbc1L!;\\xb28U=@6a\\xbc\\x1d\\x8a\\x02\\xbc(\\xf7d\\xbb\\x03\\xc3\\xd3;\\x8c\\xed&\\xbcw\\xbf\\x18\\xbcK\\x14Y\\xbc9\\xbe\\xa9\\xbcN\\xec\\xb799L\\x0b\\xbc\\x08\\x07\\xa2<G\\xe6\\x9e\\xbb\\xa8\\x04\\x82<`B\\xe7;`{v;Dc\\x92:\\x94\\xb4\\x81;\\x13\\xac\\n=\\x81\\x0f/<\\xc6\\x16\\xb7;\\x1d\\x19m\\xbc\\xa6C@<\\x1fLM=e\\xdb\\x87\\xbc\\xb9!\"\\xbc4A\\xcc\\xbc2*/\\xbc=%\\xf3;\\xf8\\x00\\x9f;\\xa8=\\x11<\\x13\\xac\\n\\xbd\\xde9p<\\x16\\xa15<\\xbbT\\x82<\\xa4\\xba\\x84<G\\xad\\x8f\\xbbI\\xfd;\\xbc\\xa4\\xd7\\xd0\\xbb\\x95|\\xfb<\\xf7\\xb1{\\xbc`\\x97\\xb9<\\xadIY\\xbd\\xf8\\x8e\\x80<\\xa8\\x04\\x82<\\xf5(\\xc0\\xbc\\x0f\\x7f\\xd9\\xbb\\x9d\\n\\xc7<\\xe2\\xbc\\xfc\\xbbu\\xc5\\xc7<\\xc9\\x0b\\xe2;\\x8c{\\x88<\\xdeU\\xb3<|\\xcb`;\\x13\\xac\\n<\\xa6\\'\\xfd\\xbc\\xfa\\x89Z\\xbd\\x85\\xe7\\x8d:\\x0c5\\xdc;Y<\\xce\\xbc\\xecD\\x99\\xbc4\\x96\\x9e\\xbc', 0)\n",
      "\n",
      "Results for table gptcache_answer:\n",
      "------------------------\n",
      "(1, 1, 'Barack Obama is an American politician and attorney who served as the 44th President of the United States from 2009 to 2017. He is a member of the Democratic Party and is known for being the first African American to hold the office of President. During his tenure, Obama implemented significant policy changes, including the Affordable Care Act (also known as Obamacare) and the economic stimulus package to recover from the 2008 financial crisis. He is considered a charismatic and influential figure in American politics.', 0)\n",
      "\n",
      "Results for table gptcache_question_dep:\n",
      "------------------------\n",
      "\n",
      "Results for table gptcache_session:\n",
      "------------------------\n",
      "\n",
      "Results for table gptcache_report:\n",
      "------------------------\n",
      "(1, 'Who is Barrack Obama?', 1, 'Who is Barrack Obama?', 'Barack Obama is an American politician and attorney who served as the 44th President of the United States from 2009 to 2017. He is a member of the Democratic Party and is known for being the first African American to hold the office of President. During his tenure, Obama implemented significant policy changes, including the Affordable Care Act (also known as Obamacare) and the economic stimulus package to recover from the 2008 financial crisis. He is considered a charismatic and influential figure in American politics.', 0.99988734722, 0.307376, '2023-07-27 18:35:38.737541', None)\n",
      "(2, 'Tell me more about Barrak Obama', 1, 'Who is Barrack Obama?', 'Barack Obama is an American politician and attorney who served as the 44th President of the United States from 2009 to 2017. He is a member of the Democratic Party and is known for being the first African American to hold the office of President. During his tenure, Obama implemented significant policy changes, including the Affordable Care Act (also known as Obamacare) and the economic stimulus package to recover from the 2008 financial crisis. He is considered a charismatic and influential figure in American politics.', 0.925992966, 0.453061, '2023-07-27 18:35:39.451213', None)\n",
      "\n"
     ]
    }
   ],
   "source": [
    "dump_cache_content()"
   ]
  },
  {
   "cell_type": "code",
   "execution_count": 18,
   "metadata": {},
   "outputs": [
    {
     "data": {
      "text/plain": [
       "{'deprecations': [],\n",
       " 'objects': [{'class': 'GPTCache',\n",
       "   'creationTimeUnix': 1690482938488,\n",
       "   'id': '9e386de1-2f45-439c-8e26-b18b9d377bd1',\n",
       "   'lastUpdateTimeUnix': 1690482938488,\n",
       "   'properties': {'data_id': 1},\n",
       "   'vectorWeights': None}],\n",
       " 'totalResults': 1}"
      ]
     },
     "execution_count": 18,
     "metadata": {},
     "output_type": "execute_result"
    }
   ],
   "source": [
    "# weaviate_client.data_object.get(class_name=weaviate_class_name, with_vector=True)\n",
    "weaviate_client.data_object.get(class_name=weaviate_class_name)"
   ]
  },
  {
   "attachments": {},
   "cell_type": "markdown",
   "metadata": {},
   "source": [
    "Now look at how semantic caching can fail:"
   ]
  },
  {
   "cell_type": "code",
   "execution_count": 19,
   "metadata": {},
   "outputs": [
    {
     "name": "stdout",
     "output_type": "stream",
     "text": [
      "Time taken to run get_openai_response: 0.28 seconds\n"
     ]
    },
    {
     "data": {
      "text/plain": [
       "'Barack Obama is an American politician and attorney who served as the 44th President of the United States from 2009 to 2017. He is a member of the Democratic Party and is known for being the first African American to hold the office of President. During his tenure, Obama implemented significant policy changes, including the Affordable Care Act (also known as Obamacare) and the economic stimulus package to recover from the 2008 financial crisis. He is considered a charismatic and influential figure in American politics.'"
      ]
     },
     "execution_count": 19,
     "metadata": {},
     "output_type": "execute_result"
    }
   ],
   "source": [
    "new_question = \"Who is Joe Biden?\"\n",
    "\n",
    "get_openai_response(new_question)"
   ]
  },
  {
   "cell_type": "code",
   "execution_count": 20,
   "metadata": {},
   "outputs": [
    {
     "name": "stdout",
     "output_type": "stream",
     "text": [
      "Time taken to run get_openai_response: 0.42 seconds\n"
     ]
    },
    {
     "data": {
      "text/plain": [
       "'Barack Obama is an American politician and attorney who served as the 44th President of the United States from 2009 to 2017. He is a member of the Democratic Party and is known for being the first African American to hold the office of President. During his tenure, Obama implemented significant policy changes, including the Affordable Care Act (also known as Obamacare) and the economic stimulus package to recover from the 2008 financial crisis. He is considered a charismatic and influential figure in American politics.'"
      ]
     },
     "execution_count": 20,
     "metadata": {},
     "output_type": "execute_result"
    }
   ],
   "source": [
    "another_new_question = \"Who is Taylor Swift?\"\n",
    "\n",
    "get_openai_response(another_new_question)"
   ]
  },
  {
   "cell_type": "code",
   "execution_count": 21,
   "metadata": {},
   "outputs": [
    {
     "name": "stdout",
     "output_type": "stream",
     "text": [
      "Time taken to run get_openai_response: 0.27 seconds\n"
     ]
    },
    {
     "data": {
      "text/plain": [
       "'Barack Obama is an American politician and attorney who served as the 44th President of the United States from 2009 to 2017. He is a member of the Democratic Party and is known for being the first African American to hold the office of President. During his tenure, Obama implemented significant policy changes, including the Affordable Care Act (also known as Obamacare) and the economic stimulus package to recover from the 2008 financial crisis. He is considered a charismatic and influential figure in American politics.'"
      ]
     },
     "execution_count": 21,
     "metadata": {},
     "output_type": "execute_result"
    }
   ],
   "source": [
    "get_openai_response(\"Who is Miley Cyrus?\")"
   ]
  },
  {
   "cell_type": "code",
   "execution_count": 22,
   "metadata": {},
   "outputs": [
    {
     "name": "stdout",
     "output_type": "stream",
     "text": [
      "Time taken to run get_openai_response: 4.88 seconds\n"
     ]
    },
    {
     "data": {
      "text/plain": [
       "'Ant-Man is a fictional superhero character primarily seen in Marvel Comics. The character was created by writer Stan Lee, Larry Lieber, and artist Jack Kirby, and first appeared in Tales to Astonish #27 in January 1962. The original Ant-Man was scientist Dr. Henry Pym, who developed a substance that allowed him to change his size and communicate with ants. Pym later passed on the mantle to other characters, including Scott Lang and Eric O\\'Grady, who became Ant-Man in different storylines. The character has also appeared in various Marvel films, most notably in the standalone \"Ant-Man\" movies released in 2015 and 2018, portrayed by actor Paul Rudd.'"
      ]
     },
     "execution_count": 22,
     "metadata": {},
     "output_type": "execute_result"
    }
   ],
   "source": [
    "get_openai_response(\"Who is Antman?\")"
   ]
  },
  {
   "cell_type": "code",
   "execution_count": 23,
   "metadata": {},
   "outputs": [
    {
     "name": "stdout",
     "output_type": "stream",
     "text": [
      "Time taken to run get_openai_response: 0.49 seconds\n"
     ]
    },
    {
     "data": {
      "text/plain": [
       "'Ant-Man is a fictional superhero character primarily seen in Marvel Comics. The character was created by writer Stan Lee, Larry Lieber, and artist Jack Kirby, and first appeared in Tales to Astonish #27 in January 1962. The original Ant-Man was scientist Dr. Henry Pym, who developed a substance that allowed him to change his size and communicate with ants. Pym later passed on the mantle to other characters, including Scott Lang and Eric O\\'Grady, who became Ant-Man in different storylines. The character has also appeared in various Marvel films, most notably in the standalone \"Ant-Man\" movies released in 2015 and 2018, portrayed by actor Paul Rudd.'"
      ]
     },
     "execution_count": 23,
     "metadata": {},
     "output_type": "execute_result"
    }
   ],
   "source": [
    "get_openai_response(\"Who is Spiderman?\")"
   ]
  },
  {
   "attachments": {},
   "cell_type": "markdown",
   "metadata": {},
   "source": [
    "Questions:\n",
    "\n",
    "1. Why does Barrak Obama, Joe Biden, Taylor Swift, Miley Cyrus semantically similar?\n",
    "2. How to tweak semantic caching so that \"Who is Barrack Obama\" and \"Who is Joe Biden\" are semantically distinct? Do we need more sophisticated distance evaluation metric?\n",
    "3. In what use cases does semmantic caching make sense?"
   ]
  }
 ],
 "metadata": {
  "kernelspec": {
   "display_name": ".venv",
   "language": "python",
   "name": "python3"
  },
  "language_info": {
   "codemirror_mode": {
    "name": "ipython",
    "version": 3
   },
   "file_extension": ".py",
   "mimetype": "text/x-python",
   "name": "python",
   "nbconvert_exporter": "python",
   "pygments_lexer": "ipython3",
   "version": "3.11.4"
  },
  "orig_nbformat": 4
 },
 "nbformat": 4,
 "nbformat_minor": 2
}
